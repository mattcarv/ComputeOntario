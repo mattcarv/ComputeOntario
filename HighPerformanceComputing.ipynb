{
 "cells": [
  {
   "cell_type": "code",
   "execution_count": 4,
   "id": "6fb19b30-7adf-4a09-b9de-7b9b2201eb38",
   "metadata": {},
   "outputs": [],
   "source": [
    "import os\n",
    "import sys\n",
    "import numpy as np\n",
    "import numexpr as ne\n",
    "import matplotlib.pyplot as plt\n",
    "import line_profiler\n",
    "#import memory_profiler\n",
    "import multiprocessing\n",
    "from mpi4py import MPI\n",
    "from numba import jit, prange\n",
    "import scalene"
   ]
  },
  {
   "cell_type": "code",
   "execution_count": 5,
   "id": "2106ed1a-5c0d-4a38-b9d0-f2f7cc1f48f6",
   "metadata": {},
   "outputs": [
    {
     "data": {
      "image/png": "[encoded data removed]",
      "text/plain": [
       "<Figure size 640x480 with 1 Axes>"
      ]
     },
     "metadata": {},
     "output_type": "display_data"
    }
   ],
   "source": [
    "def f(x):\n",
    "    return 0.7*x*x*x - 2*x*x + 4\n",
    "\n",
    "X = np.linspace(0,3,40)\n",
    "Y = f(X)\n",
    "plt.fill_between(X,Y)\n",
    "plt.xlabel(\"x\")\n",
    "plt.ylabel(\"$0.7x^3-2x^2+4$\");"
   ]
  },
  {
   "cell_type": "code",
   "execution_count": 6,
   "id": "7f0d1dcb-d68b-4ab7-8197-efe36f68ed95",
   "metadata": {},
   "outputs": [],
   "source": [
    "def auc(ntot):\n",
    "    dx    = 3.0/ntot\n",
    "    width = 3.0\n",
    "    x = 0\n",
    "    a = 0.0\n",
    "    for i in range(ntot):\n",
    "        y = 0.7*x**3 - 2*x**2 + 4\n",
    "        a += y*dx\n",
    "        x += dx\n",
    "    print(\"The area is %f\"%a)"
   ]
  },
  {
   "cell_type": "code",
   "execution_count": 7,
   "id": "646bbe8a-4ae2-42e6-811b-6aba647a3905",
   "metadata": {},
   "outputs": [
    {
     "name": "stdout",
     "output_type": "stream",
     "text": [
      "The area is 8.175000\n",
      "CPU times: user 37.2 s, sys: 18.3 ms, total: 37.2 s\n",
      "Wall time: 37.2 s\n"
     ]
    }
   ],
   "source": [
    "ntot=100000000\n",
    "%time auc(ntot)"
   ]
  },
  {
   "cell_type": "code",
   "execution_count": 9,
   "id": "fcea2495-9932-415f-857c-c0b0c673fb34",
   "metadata": {},
   "outputs": [],
   "source": [
    "import line_profiler"
   ]
  },
  {
   "cell_type": "code",
   "execution_count": 10,
   "id": "a8f6b966-783d-41d5-ae4c-8384d8adef98",
   "metadata": {},
   "outputs": [
    {
     "name": "stdout",
     "output_type": "stream",
     "text": [
      "The area is 8.174999\n"
     ]
    },
    {
     "data": {
      "text/plain": [
       "Timer unit: 1e-06 s\n",
       "\n",
       "Total time: 2.95573 s\n",
       "File: /tmp/ipykernel_25515/95140975.py\n",
       "Function: auc at line 1\n",
       "\n",
       "Line #      Hits         Time  Per Hit   % Time  Line Contents\n",
       "==============================================================\n",
       "     1                                           def auc(ntot):\n",
       "     2         1          7.0      7.0      0.0      dx    = 3.0/ntot\n",
       "     3         1          2.0      2.0      0.0      width = 3.0\n",
       "     4         1          1.0      1.0      0.0      x = 0\n",
       "     5         1          2.0      2.0      0.0      a = 0.0\n",
       "     6   1000001     617715.0      0.6     20.9      for i in range(ntot):\n",
       "     7   1000000    1014538.0      1.0     34.3          y = 0.7*x**3 - 2*x**2 + 4\n",
       "     8   1000000     687335.0      0.7     23.3          a += y*dx\n",
       "     9   1000000     636044.0      0.6     21.5          x += dx\n",
       "    10         1         87.0     87.0      0.0      print(\"The area is %f\"%a)"
      ]
     },
     "metadata": {},
     "output_type": "display_data"
    }
   ],
   "source": [
    "%lprun -f auc auc(1_000_000)"
   ]
  },
  {
   "cell_type": "code",
   "execution_count": 12,
   "id": "dd00b591-2333-4540-bdc1-33c962a27286",
   "metadata": {},
   "outputs": [],
   "source": [
    "import numpy as np"
   ]
  },
  {
   "cell_type": "code",
   "execution_count": 36,
   "id": "7042cba0-c68b-4227-9705-6a1fc73562ff",
   "metadata": {},
   "outputs": [],
   "source": [
    "n_tot = 20000000"
   ]
  },
  {
   "cell_type": "code",
   "execution_count": 24,
   "id": "0cae799f-3831-46a0-9907-d73adba915ef",
   "metadata": {},
   "outputs": [],
   "source": [
    "def auc_ne(n_tot):\n",
    "    dx    = 3.0/n_tot\n",
    "    width = 3.0\n",
    "    x = np.linspace(0.0, width, n_tot, endpoint=False)\n",
    "    y = 0.7*x**3 - 2*x**2 + 4\n",
    "    a = np.sum(y)*dx\n",
    "    print(\"The area is %f\"%a)"
   ]
  },
  {
   "cell_type": "code",
   "execution_count": 28,
   "id": "00cb45bf-03e8-43dd-b899-70df1d03ebec",
   "metadata": {},
   "outputs": [
    {
     "name": "stdout",
     "output_type": "stream",
     "text": [
      "The area is 8.174326\n",
      "CPU times: user 2.36 ms, sys: 1.08 ms, total: 3.44 ms\n",
      "Wall time: 2.29 ms\n"
     ]
    }
   ],
   "source": [
    "%time auc_ne(n_tot)"
   ]
  },
  {
   "cell_type": "code",
   "execution_count": 30,
   "id": "e2b11fc6-3b5a-45be-a9b9-a499365f3d93",
   "metadata": {},
   "outputs": [],
   "source": [
    "def auc_nume(n_tot):\n",
    "    dx    = 3.0/n_tot\n",
    "    width = 3.0\n",
    "    x = np.linspace(0.0, width, n_tot, endpoint=False)\n",
    "    y = ne.evaluate('0.7*x**3 - 2*x**2 + 4')\n",
    "    a = np.sum(y)*dx\n",
    "    print(\"The area is %f\"%a)"
   ]
  },
  {
   "cell_type": "code",
   "execution_count": 33,
   "id": "94d0376f-6f5d-4b26-a4b0-b52d44daf399",
   "metadata": {},
   "outputs": [
    {
     "data": {
      "text/plain": [
       "8"
      ]
     },
     "execution_count": 33,
     "metadata": {},
     "output_type": "execute_result"
    }
   ],
   "source": [
    "ne.set_num_threads(3)"
   ]
  },
  {
   "cell_type": "code",
   "execution_count": 37,
   "id": "3c0652d4-4882-4a1c-bddf-fce20039d18d",
   "metadata": {},
   "outputs": [
    {
     "name": "stdout",
     "output_type": "stream",
     "text": [
      "The area is 8.175000\n",
      "CPU times: user 223 ms, sys: 112 ms, total: 335 ms\n",
      "Wall time: 208 ms\n"
     ]
    }
   ],
   "source": [
    "%time auc_nume(n_tot)"
   ]
  },
  {
   "cell_type": "code",
   "execution_count": null,
   "id": "1006161c-1903-4afa-9cfa-b97eda454d15",
   "metadata": {},
   "outputs": [],
   "source": [
    "%%file auc_mpi\n",
    "import numpy as np\n",
    "import numexpr as ne\n",
    "n_tot = 20000000\n",
    "def auc_mpi(n_tot, rank, size, comm):\n",
    "    dx    = 3.0/n_tot\n",
    "    width = 3.0\n",
    "    start = (width/size)*rank\n",
    "    stop = (width/size)*(rank+1)\n",
    "    n = n_tot/size\n",
    "    x = np.linspace(0.0, width, n_tot, endpoint=False)\n",
    "    a = ne.evaluate('0.7*x**3 - 2*x**2 + 4').sum * dx\n",
    "    suma = comm.reduce(a,root=0)\n",
    "    if (rank=0):\n",
    "        print(\"The area is %f\"%a)\n",
    "from mpi4py import MPI\n",
    "comm = MPI.COMM_WORLD\n",
    "rank = comm.Get_rank()\n",
    "size = comm.Get_size()\n",
    "auc_mpi(n_tot)"
   ]
  },
  {
   "cell_type": "code",
   "execution_count": null,
   "id": "8d1dfc26-bd1d-4d9e-867a-cfc95e3b3ee0",
   "metadata": {
    "tags": []
   },
   "outputs": [],
   "source": [
    "!srun -n 3 python auc_mpi"
   ]
  }
 ],
 "metadata": {
  "kernelspec": {
   "display_name": "hpcpy2",
   "language": "python",
   "name": "hpcpy2"
  },
  "language_info": {
   "codemirror_mode": {
    "name": "ipython",
    "version": 3
   },
   "file_extension": ".py",
   "mimetype": "text/x-python",
   "name": "python",
   "nbconvert_exporter": "python",
   "pygments_lexer": "ipython3",
   "version": "3.9.6"
  }
 },
 "nbformat": 4,
 "nbformat_minor": 5
}
